{
 "cells": [
  {
   "cell_type": "markdown",
   "metadata": {},
   "source": [
    "### ESTUDO DIRIGIDO - SISTEMAS DE CONTROLE MODERNOS (8ª EDIÇÃO)\n",
    "#### Alunos: Gabriel da Silva e Jhonatan Pereira\n",
    "\n",
    "__Objetivo do estudo:__\n",
    "O objetivo desde estudo é analisar o comportamento de um sistema de controle em malha fechada, utilizando o método de resposta em frequência, e comparar os resultados obtidos com os resultados obtidos através do método de resposta ao degrau."
   ]
  },
  {
   "cell_type": "code",
   "execution_count": 1,
   "metadata": {},
   "outputs": [
    {
     "name": "stdout",
     "output_type": "stream",
     "text": [
      "Requirement already satisfied: control in ./venv/lib/python3.10/site-packages (0.9.4)\n",
      "Requirement already satisfied: numpy in ./venv/lib/python3.10/site-packages (from control) (1.26.0)\n",
      "Requirement already satisfied: scipy>=1.3 in ./venv/lib/python3.10/site-packages (from control) (1.11.3)\n",
      "Requirement already satisfied: matplotlib in ./venv/lib/python3.10/site-packages (from control) (3.8.0)\n",
      "Requirement already satisfied: contourpy>=1.0.1 in ./venv/lib/python3.10/site-packages (from matplotlib->control) (1.1.1)\n",
      "Requirement already satisfied: cycler>=0.10 in ./venv/lib/python3.10/site-packages (from matplotlib->control) (0.12.0)\n",
      "Requirement already satisfied: fonttools>=4.22.0 in ./venv/lib/python3.10/site-packages (from matplotlib->control) (4.43.0)\n",
      "Requirement already satisfied: kiwisolver>=1.0.1 in ./venv/lib/python3.10/site-packages (from matplotlib->control) (1.4.5)\n",
      "Requirement already satisfied: packaging>=20.0 in ./venv/lib/python3.10/site-packages (from matplotlib->control) (23.1)\n",
      "Requirement already satisfied: pillow>=6.2.0 in ./venv/lib/python3.10/site-packages (from matplotlib->control) (10.0.1)\n",
      "Requirement already satisfied: pyparsing>=2.3.1 in ./venv/lib/python3.10/site-packages (from matplotlib->control) (3.1.1)\n",
      "Requirement already satisfied: python-dateutil>=2.7 in ./venv/lib/python3.10/site-packages (from matplotlib->control) (2.8.2)\n",
      "Requirement already satisfied: six>=1.5 in ./venv/lib/python3.10/site-packages (from python-dateutil>=2.7->matplotlib->control) (1.16.0)\n",
      "Note: you may need to restart the kernel to use updated packages.\n"
     ]
    }
   ],
   "source": [
    "# Instalando biblioteca python-control para simulação de sistemas de controle\n",
    "%pip install control\n",
    "# Importando a biblioteca control\n",
    "import control as ctl\n",
    "# Importando a biblioteca matplotlib para plotar gráficos\n",
    "import matplotlib.pyplot as plt\n",
    "# Importando a biblioteca numpy para cálculos matemáticos\n",
    "import numpy as np"
   ]
  },
  {
   "cell_type": "markdown",
   "metadata": {},
   "source": [
    "#### Capítulo 4: **Características de sistemas de controle com retroação**"
   ]
  },
  {
   "cell_type": "markdown",
   "metadata": {},
   "source": [
    "##### 4.7 Exemplo de projeto: Máquinas perfuratrizes do Canal da Mancha"
   ]
  },
  {
   "cell_type": "markdown",
   "metadata": {},
   "source": [
    "__Resumo__:\n",
    "O canal da Mancha é um braço de mar que faz parte do oceano Atlântico e que separa a ilha da Grã-Bretanha do norte da França e une o mar do Norte ao Atlântico.\n",
    "\n",
    "A construção do túnel sob o Canal da Mancha da França para a Grã-Bretanha. O túnel tem um comprimento de 23,5 milhas e foi perfurado 200 pés abaixo do nível do mar. Após concluído, atende 50 viagens de trens diariamente. Esta construção incrementa a conexão Europa e Grã-Bretanha, tornando possível um trem chegar a Paris a partir de Londres em 3 horas.\n",
    "\n",
    "O projeto do sistema de controle para a máquina perfuradora do túnel do Canal da Mancha é um exemplo de projeto de um sistema de controle de malha fechada. O sistema de controle é projetado para manter a velocidade e a direção da máquina perfuradora constantes, apesar de variações na carga devido a diferentes tipos de solo.\n",
    "\n",
    "As máquinas que operaram de ambas as extremidades precisamente alinhadas por um sistema de orientação a laser. O objetivo do projeto é selecionar o ganho $K$ para que a resposta a mudanças no ângulo de entrada seja a desejável, mantendo, ao mesmo tempo, o erro mínimo devido a perturbalões, onde $Y(s)$ é o ângulo real da direção de deslocamento da máquina de perfurar e $R(s)$ é o ângulo desejado. O efeito de carga sobre a máquina é representado pela perturbação $D(s)$. Usando a fórmula de ganho do diagrama de fluxo de sinal de Mason, a saída devida às duas entradas será:\n",
    "\n",
    "$$Y(s) = T(s)R(s) + T_d(s)D(s)$$\n",
    "$$= \\frac{K + 11s}{s^2+12s+K} R(s) + \\frac{1}{s^2 + 12s + K} D(s).$$"
   ]
  },
  {
   "cell_type": "code",
   "execution_count": null,
   "metadata": {},
   "outputs": [],
   "source": [
    "# Função de transferência da máquina de perfurar\n",
    "def drilling_machine_transfer(\n",
    "        s: ctl.TransferFunction,\n",
    "        K: float,\n",
    "        R_s: float,\n",
    "        D_s: float\n",
    ") -> float:\n",
    "    \"\"\"\n",
    "    Função de transferência da máquina de perfurar.\n",
    "    \n",
    "    Args:\n",
    "        s (float): Variável complexa da transformada de Laplace.\n",
    "        K (float): Ganho do sistema.\n",
    "        R_s (float): Ângulo de referência da direção de deslocamento da máquina de perfurar.\n",
    "        D_s (float): Distúrbio na direção de deslocamento da máquina de perfurar.\n",
    "\n",
    "    Returns:\n",
    "        Y_s (float): Ângulo real da direção de deslocamento da máquina de perfurar.\n",
    "    \"\"\"\n",
    "    # Definindo a função de transferência da máquina de perfurar\n",
    "    T_s = (K + 11 * s) / (s**2 + 12 * s + K)\n",
    "    Td_s = 1 / (s**2 + 12 * s + K)\n",
    "    Y_s = T_s * R_s + Td_s * D_s\n",
    "\n",
    "    return Y_s\n",
    "\n",
    "response = ctl.step_response(\n",
    "    drilling_machine_transfer(\n",
    "        s=ctl.tf('s'),\n",
    "        K=100,\n",
    "        R_s=1,\n",
    "        D_s=0\n",
    "    )\n",
    ")\n",
    "\n",
    "output = response.outputs\n",
    "time = response.time\n",
    "\n",
    "plt.plot(time, output)\n",
    "plt.xlabel('Tempo (s)')\n",
    "plt.ylabel('y(t) º', )\n",
    "plt.title('Resposta ao degrau da máquina de perfurar\\nK = 100, d(t) = 0')\n",
    "plt.grid()\n",
    "plt.show()"
   ]
  },
  {
   "cell_type": "code",
   "execution_count": null,
   "metadata": {},
   "outputs": [],
   "source": [
    "response = ctl.step_response(\n",
    "    drilling_machine_transfer(\n",
    "        s=ctl.tf('s'),\n",
    "        K=100,\n",
    "        R_s=0.0001,\n",
    "        D_s=1\n",
    "    )\n",
    ")\n",
    "\n",
    "output = response.outputs\n",
    "time = response.time\n",
    "\n",
    "plt.plot(time, output)\n",
    "plt.xlabel('Tempo (s)')\n",
    "plt.ylabel('y(t) º', )\n",
    "plt.title('Resposta ao degrau da máquina de perfurar\\nK = 100, d(t) = 1')\n",
    "plt.grid()\n",
    "plt.show()"
   ]
  },
  {
   "cell_type": "code",
   "execution_count": null,
   "metadata": {},
   "outputs": [],
   "source": [
    "response = ctl.step_response(\n",
    "    drilling_machine_transfer(\n",
    "        s=ctl.tf('s'),\n",
    "        K=20,\n",
    "        R_s=0.95,\n",
    "        D_s=1\n",
    "    )\n",
    ")\n",
    "\n",
    "output = response.outputs\n",
    "time = response.time\n",
    "\n",
    "plt.plot(time, output)\n",
    "plt.xlabel('Tempo (s)')\n",
    "plt.ylabel('y(t) º', )\n",
    "plt.title('Resposta ao degrau da máquina de perfurar\\nK = 20, d(t) = 1')\n",
    "plt.grid()\n",
    "plt.show()"
   ]
  },
  {
   "cell_type": "markdown",
   "metadata": {},
   "source": [
    "#### 4.8 Exemplo de projeto: Veículo explorador de Marte"
   ]
  },
  {
   "cell_type": "markdown",
   "metadata": {},
   "source": [
    "#### 4.9 Características de sistema de controle com o Matlab"
   ]
  },
  {
   "cell_type": "code",
   "execution_count": 2,
   "metadata": {},
   "outputs": [
    {
     "data": {
      "text/plain": [
       "(array([[[-1.]]]), [[array([2. , 1.5])]])"
      ]
     },
     "execution_count": 2,
     "metadata": {},
     "output_type": "execute_result"
    }
   ],
   "source": [
    "# Exemplo de velocidade com tacômetro\n",
    "Ra, Km, J, b, Kb = 1, 10, 2, 0.5, 0.1\n",
    "num1 = [1]\n",
    "den1 = [J, b]\n",
    "num2 = [Km * Kb / Ra]\n",
    "den2 = [1]\n",
    "\n",
    "series = ctl.series(ctl.tf(num1, den1), ctl.tf(num2, den2))\n",
    "# Calcular feedback negativo\n",
    "feedback = ctl.feedback(series, sign=-1)\n",
    "num, den = ctl.tfdata(feedback)\n",
    "num = np.negative(num)\n",
    "num, den"
   ]
  },
  {
   "cell_type": "code",
   "execution_count": 3,
   "metadata": {},
   "outputs": [
    {
     "data": {
      "image/png": "[encoded data removed]",
      "text/plain": [
       "<Figure size 640x480 with 1 Axes>"
      ]
     },
     "metadata": {},
     "output_type": "display_data"
    }
   ],
   "source": [
    "response = ctl.step_response(\n",
    "    ctl.tf(num, den),\n",
    ")\n",
    "\n",
    "output = response.outputs\n",
    "time = response.time\n",
    "\n",
    "plt.plot(time, output)\n",
    "plt.title('Resposta a um degrau de perturbação em malha aberta')\n",
    "plt.xlabel('Tempo (s)')\n",
    "plt.ylabel('Velocidade')\n",
    "plt.grid()\n",
    "plt.plot(time, output[-1] * np.ones(len(time)), '--')\n",
    "plt.figtext(.7, .2, \"Erro de estado\\n estacionário\")\n",
    "plt.show()"
   ]
  },
  {
   "cell_type": "code",
   "execution_count": 6,
   "metadata": {},
   "outputs": [
    {
     "ename": "KeyboardInterrupt",
     "evalue": "",
     "output_type": "error",
     "traceback": [
      "\u001b[0;31m---------------------------------------------------------------------------\u001b[0m",
      "\u001b[0;31mKeyboardInterrupt\u001b[0m                         Traceback (most recent call last)",
      "\u001b[1;32m/home/jhonatan/Code/Control-and-Automation/projeto_estudo_dirigido.ipynb Cell 13\u001b[0m line \u001b[0;36m1\n\u001b[1;32m      <a href='vscode-notebook-cell:/home/jhonatan/Code/Control-and-Automation/projeto_estudo_dirigido.ipynb#X15sZmlsZQ%3D%3D?line=8'>9</a>\u001b[0m parallel2 \u001b[39m=\u001b[39m ctl\u001b[39m.\u001b[39mparallel(ctl\u001b[39m.\u001b[39mtf(num2, den2), ctl\u001b[39m.\u001b[39mtf(num3, den3))\n\u001b[1;32m     <a href='vscode-notebook-cell:/home/jhonatan/Code/Control-and-Automation/projeto_estudo_dirigido.ipynb#X15sZmlsZQ%3D%3D?line=9'>10</a>\u001b[0m numa, dena \u001b[39m=\u001b[39m ctl\u001b[39m.\u001b[39mtfdata(parallel)\n\u001b[0;32m---> <a href='vscode-notebook-cell:/home/jhonatan/Code/Control-and-Automation/projeto_estudo_dirigido.ipynb#X15sZmlsZQ%3D%3D?line=10'>11</a>\u001b[0m series \u001b[39m=\u001b[39m ctl\u001b[39m.\u001b[39mseries(ctl\u001b[39m.\u001b[39mtf(numa, dena), ctl\u001b[39m.\u001b[39mtf(num4, den4))\n\u001b[1;32m     <a href='vscode-notebook-cell:/home/jhonatan/Code/Control-and-Automation/projeto_estudo_dirigido.ipynb#X15sZmlsZQ%3D%3D?line=11'>12</a>\u001b[0m series2 \u001b[39m=\u001b[39m ctl\u001b[39m.\u001b[39mseries(numa, dena, num4, den4)\n\u001b[1;32m     <a href='vscode-notebook-cell:/home/jhonatan/Code/Control-and-Automation/projeto_estudo_dirigido.ipynb#X15sZmlsZQ%3D%3D?line=12'>13</a>\u001b[0m numb, denb \u001b[39m=\u001b[39m ctl\u001b[39m.\u001b[39mtfdata(series)\n",
      "\u001b[1;32m/home/jhonatan/Code/Control-and-Automation/projeto_estudo_dirigido.ipynb Cell 13\u001b[0m line \u001b[0;36m1\n\u001b[1;32m      <a href='vscode-notebook-cell:/home/jhonatan/Code/Control-and-Automation/projeto_estudo_dirigido.ipynb#X15sZmlsZQ%3D%3D?line=8'>9</a>\u001b[0m parallel2 \u001b[39m=\u001b[39m ctl\u001b[39m.\u001b[39mparallel(ctl\u001b[39m.\u001b[39mtf(num2, den2), ctl\u001b[39m.\u001b[39mtf(num3, den3))\n\u001b[1;32m     <a href='vscode-notebook-cell:/home/jhonatan/Code/Control-and-Automation/projeto_estudo_dirigido.ipynb#X15sZmlsZQ%3D%3D?line=9'>10</a>\u001b[0m numa, dena \u001b[39m=\u001b[39m ctl\u001b[39m.\u001b[39mtfdata(parallel)\n\u001b[0;32m---> <a href='vscode-notebook-cell:/home/jhonatan/Code/Control-and-Automation/projeto_estudo_dirigido.ipynb#X15sZmlsZQ%3D%3D?line=10'>11</a>\u001b[0m series \u001b[39m=\u001b[39m ctl\u001b[39m.\u001b[39mseries(ctl\u001b[39m.\u001b[39mtf(numa, dena), ctl\u001b[39m.\u001b[39mtf(num4, den4))\n\u001b[1;32m     <a href='vscode-notebook-cell:/home/jhonatan/Code/Control-and-Automation/projeto_estudo_dirigido.ipynb#X15sZmlsZQ%3D%3D?line=11'>12</a>\u001b[0m series2 \u001b[39m=\u001b[39m ctl\u001b[39m.\u001b[39mseries(numa, dena, num4, den4)\n\u001b[1;32m     <a href='vscode-notebook-cell:/home/jhonatan/Code/Control-and-Automation/projeto_estudo_dirigido.ipynb#X15sZmlsZQ%3D%3D?line=12'>13</a>\u001b[0m numb, denb \u001b[39m=\u001b[39m ctl\u001b[39m.\u001b[39mtfdata(series)\n",
      "File \u001b[0;32m_pydevd_bundle/pydevd_cython.pyx:1457\u001b[0m, in \u001b[0;36m_pydevd_bundle.pydevd_cython.SafeCallWrapper.__call__\u001b[0;34m()\u001b[0m\n",
      "File \u001b[0;32m_pydevd_bundle/pydevd_cython.pyx:701\u001b[0m, in \u001b[0;36m_pydevd_bundle.pydevd_cython.PyDBFrame.trace_dispatch\u001b[0;34m()\u001b[0m\n",
      "File \u001b[0;32m_pydevd_bundle/pydevd_cython.pyx:1395\u001b[0m, in \u001b[0;36m_pydevd_bundle.pydevd_cython.PyDBFrame.trace_dispatch\u001b[0;34m()\u001b[0m\n",
      "File \u001b[0;32m_pydevd_bundle/pydevd_cython.pyx:1344\u001b[0m, in \u001b[0;36m_pydevd_bundle.pydevd_cython.PyDBFrame.trace_dispatch\u001b[0;34m()\u001b[0m\n",
      "File \u001b[0;32m_pydevd_bundle/pydevd_cython.pyx:312\u001b[0m, in \u001b[0;36m_pydevd_bundle.pydevd_cython.PyDBFrame.do_wait_suspend\u001b[0;34m()\u001b[0m\n",
      "File \u001b[0;32m~/Code/Control-and-Automation/venv/lib/python3.10/site-packages/debugpy/_vendored/pydevd/pydevd.py:2070\u001b[0m, in \u001b[0;36mPyDB.do_wait_suspend\u001b[0;34m(self, thread, frame, event, arg, exception_type)\u001b[0m\n\u001b[1;32m   2067\u001b[0m             from_this_thread\u001b[39m.\u001b[39mappend(frame_custom_thread_id)\n\u001b[1;32m   2069\u001b[0m     \u001b[39mwith\u001b[39;00m \u001b[39mself\u001b[39m\u001b[39m.\u001b[39m_threads_suspended_single_notification\u001b[39m.\u001b[39mnotify_thread_suspended(thread_id, thread, stop_reason):\n\u001b[0;32m-> 2070\u001b[0m         keep_suspended \u001b[39m=\u001b[39m \u001b[39mself\u001b[39;49m\u001b[39m.\u001b[39;49m_do_wait_suspend(thread, frame, event, arg, suspend_type, from_this_thread, frames_tracker)\n\u001b[1;32m   2072\u001b[0m frames_list \u001b[39m=\u001b[39m \u001b[39mNone\u001b[39;00m\n\u001b[1;32m   2074\u001b[0m \u001b[39mif\u001b[39;00m keep_suspended:\n\u001b[1;32m   2075\u001b[0m     \u001b[39m# This means that we should pause again after a set next statement.\u001b[39;00m\n",
      "File \u001b[0;32m~/Code/Control-and-Automation/venv/lib/python3.10/site-packages/debugpy/_vendored/pydevd/pydevd.py:2106\u001b[0m, in \u001b[0;36mPyDB._do_wait_suspend\u001b[0;34m(self, thread, frame, event, arg, suspend_type, from_this_thread, frames_tracker)\u001b[0m\n\u001b[1;32m   2103\u001b[0m         \u001b[39mself\u001b[39m\u001b[39m.\u001b[39m_call_input_hook()\n\u001b[1;32m   2105\u001b[0m     \u001b[39mself\u001b[39m\u001b[39m.\u001b[39mprocess_internal_commands()\n\u001b[0;32m-> 2106\u001b[0m     time\u001b[39m.\u001b[39;49msleep(\u001b[39m0.01\u001b[39;49m)\n\u001b[1;32m   2108\u001b[0m \u001b[39mself\u001b[39m\u001b[39m.\u001b[39mcancel_async_evaluation(get_current_thread_id(thread), \u001b[39mstr\u001b[39m(\u001b[39mid\u001b[39m(frame)))\n\u001b[1;32m   2110\u001b[0m \u001b[39m# process any stepping instructions\u001b[39;00m\n",
      "\u001b[0;31mKeyboardInterrupt\u001b[0m: "
     ]
    }
   ],
   "source": [
    "# Exemplo de velocidade com tacômetro\n",
    "Ra, Km, J, b, Kb, Ka, Kt = 1, 10, 2, 0.5, 0.1, 54, 1\n",
    "num1, den1 = [1], [J, b]\n",
    "num2, den2 = [Ka * Kt], [1]\n",
    "num3, den3 = [Kb], [1]\n",
    "num4, den4 = [Km / Ra], [1]\n",
    "\n",
    "parallel = ctl.parallel(num2, num3, den2, den3)\n",
    "parallel2 = ctl.parallel(ctl.tf(num2, den2), ctl.tf(num3, den3))\n",
    "numa, dena = ctl.tfdata(parallel)\n",
    "series = ctl.series(ctl.tf(numa, dena), ctl.tf(num4, den4))\n",
    "series2 = ctl.series(numa, dena, num4, den4)\n",
    "numb, denb = ctl.tfdata(series)\n",
    "series = ctl.series(ctl.tf(num1, den1), ctl.tf(numb, denb))\n",
    "series2 = ctl.series(num1, den1, numb, denb)\n",
    "feedback = ctl.feedback(series)\n",
    "num, den = ctl.tfdata(feedback)\n",
    "num = np.negative(num)\n",
    "num, den"
   ]
  },
  {
   "cell_type": "code",
   "execution_count": null,
   "metadata": {},
   "outputs": [],
   "source": [
    "response = ctl.step_response(\n",
    "    ctl.tf(num, den),\n",
    ")\n",
    "\n",
    "output = response.outputs\n",
    "time = response.time\n",
    "\n",
    "plt.plot(time, output)\n",
    "plt.title('Resposta a um degrau de perturbação em malha fechada')\n",
    "plt.xlabel('Tempo (s)')\n",
    "plt.ylabel('Velocidade [rad/s]')\n",
    "plt.grid()\n",
    "plt.plot(time, output[-1] * np.ones(len(time)), '--')\n",
    "plt.figtext(.7, .2, \"Erro de estado\\n estacionário\")\n",
    "plt.show()"
   ]
  },
  {
   "cell_type": "markdown",
   "metadata": {},
   "source": [
    "#### Capítulo 5: **O desempenho de sistemas de controle com retroação**"
   ]
  },
  {
   "cell_type": "markdown",
   "metadata": {},
   "source": [
    "#### Capítulo 6: **A estabilidade de sistemas linares com retroação**"
   ]
  },
  {
   "cell_type": "markdown",
   "metadata": {},
   "source": [
    "#### Capítulo 7: **O método do lugar das raízes**"
   ]
  },
  {
   "cell_type": "markdown",
   "metadata": {},
   "source": [
    "#### Capítulo 10: **O projeto de sistemas de controle com retroação**"
   ]
  },
  {
   "cell_type": "markdown",
   "metadata": {},
   "source": [
    "#### Capítulo 13: **Sistemas de controle digital**"
   ]
  },
  {
   "cell_type": "code",
   "execution_count": null,
   "metadata": {},
   "outputs": [],
   "source": [
    "\n",
    "%pip install control"
   ]
  },
  {
   "cell_type": "code",
   "execution_count": null,
   "metadata": {},
   "outputs": [],
   "source": []
  }
 ],
 "metadata": {
  "kernelspec": {
   "display_name": "Python 3",
   "language": "python",
   "name": "python3"
  },
  "language_info": {
   "codemirror_mode": {
    "name": "ipython",
    "version": 3
   },
   "file_extension": ".py",
   "mimetype": "text/x-python",
   "name": "python",
   "nbconvert_exporter": "python",
   "pygments_lexer": "ipython3",
   "version": "3.10.12"
  },
  "orig_nbformat": 4
 },
 "nbformat": 4,
 "nbformat_minor": 2
}
